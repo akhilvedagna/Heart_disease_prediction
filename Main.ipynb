{
 "cells": [
  {
   "cell_type": "code",
   "execution_count": 57,
   "id": "02e02c2c",
   "metadata": {},
   "outputs": [],
   "source": [
    "import pandas as pd\n",
    "import numpy as np\n",
    "import pickle\n",
    "import wfdb\n",
    "import ast\n",
    "import pywt\n",
    "from resnet50 import *\n",
    "import matplotlib.pyplot as plt\n",
    "import tensorflow as tf\n",
    "import sklearn\n",
    "\n",
    "path_pkl = \"C:/Users/vedag/OneDrive/Desktop/Project/a_ptb_xl/jupyter_notebooks/pkl_files/\"\n",
    "path = \"C:/Users/vedag/OneDrive/Desktop/Project/a_ptb_xl/jupyter_notebooks/data/\""
   ]
  },
  {
   "cell_type": "code",
   "execution_count": 28,
   "id": "848133c1",
   "metadata": {},
   "outputs": [],
   "source": [
    "database = pd.read_csv(path + \"ptbxl_database.csv\", index_col = 'ecg_id')"
   ]
  },
  {
   "cell_type": "code",
   "execution_count": 29,
   "id": "958ab635",
   "metadata": {},
   "outputs": [],
   "source": [
    "database.drop(axis=1, columns=['height', 'weight', 'infarction_stadium1', 'infarction_stadium2', 'electrodes_problems', 'pacemaker', 'validated_by'], inplace=True)"
   ]
  },
  {
   "cell_type": "code",
   "execution_count": 30,
   "id": "29a96076",
   "metadata": {},
   "outputs": [],
   "source": [
    "sampling_rate = 500"
   ]
  },
  {
   "cell_type": "code",
   "execution_count": 31,
   "id": "b6f2d9a5",
   "metadata": {},
   "outputs": [],
   "source": [
    "database.scp_codes = database.scp_codes.apply(lambda x: ast.literal_eval(x))"
   ]
  },
  {
   "cell_type": "code",
   "execution_count": 32,
   "id": "c3b39264",
   "metadata": {},
   "outputs": [],
   "source": [
    "scp_df = pd.read_csv(path+'scp_statements.csv', index_col=0)"
   ]
  },
  {
   "cell_type": "code",
   "execution_count": 36,
   "id": "0c1162ce",
   "metadata": {},
   "outputs": [],
   "source": [
    "scp_df.drop(axis=1, columns=['rhythm', 'form', 'aECG REFID', 'DICOM Code', 'CDISC Code'], inplace=True)"
   ]
  },
  {
   "cell_type": "code",
   "execution_count": 37,
   "id": "883fb709",
   "metadata": {},
   "outputs": [],
   "source": [
    "scp_df = scp_df[scp_df.diagnostic == 1]"
   ]
  },
  {
   "cell_type": "code",
   "execution_count": 38,
   "id": "33707fd1",
   "metadata": {},
   "outputs": [],
   "source": [
    "def aggregate_diagnostic(y_dic):\n",
    "    temp = []\n",
    "    for key in y_dic.keys():\n",
    "        if key in scp_df.index:\n",
    "            temp.append(scp_df.loc[key].diagnostic_class)\n",
    "    return list(set(temp))\n",
    "\n",
    "# Apply diagnostic superclass\n",
    "\"\"\"\n",
    "If the dict keys in database.scp_codes are available in agg_diff index, put them in diagnostic_superclass\n",
    " - This means scp_statements.csv contains diagnostic class in the first column\n",
    "\"\"\"\n",
    "database['diagnostic_superclass'] = database.scp_codes.apply(aggregate_diagnostic)"
   ]
  },
  {
   "cell_type": "code",
   "execution_count": 39,
   "id": "b84324ee",
   "metadata": {},
   "outputs": [],
   "source": [
    "database['diagnostic_superclass_len'] = database['diagnostic_superclass'].apply(len)"
   ]
  },
  {
   "cell_type": "code",
   "execution_count": 40,
   "id": "4390dbfa",
   "metadata": {},
   "outputs": [
    {
     "name": "stdout",
     "output_type": "stream",
     "text": [
      "Number of records with 4 labels : 159\n",
      "Number of records with 3 labels : 920\n",
      "Number of records with 2 labels : 4079\n",
      "Number of records with 1 label : 16272\n"
     ]
    }
   ],
   "source": [
    "print('Number of records with 4 labels : {0}\\nNumber of records with 3 labels : {1}\\nNumber of records with 2 labels : {2}\\nNumber of records with 1 label : {3}'.format(len(database[database.diagnostic_superclass_len == 4]), len(database[database.diagnostic_superclass_len == 3]), len(database[database.diagnostic_superclass_len == 2]), len(database[database.diagnostic_superclass_len == 1])))"
   ]
  },
  {
   "cell_type": "code",
   "execution_count": 41,
   "id": "d7381f9d",
   "metadata": {},
   "outputs": [],
   "source": [
    "database = database[database.diagnostic_superclass_len == 1].reset_index(drop=True)"
   ]
  },
  {
   "cell_type": "code",
   "execution_count": 43,
   "id": "12dcc707",
   "metadata": {},
   "outputs": [],
   "source": [
    "# classes -- 0 = normal, 1= MI, 2 = STTC, 3=HYP, 4=CD\n",
    "def classes(k):\n",
    "    if k == ['MI']:\n",
    "        return 1\n",
    "    elif k == ['STTC']:\n",
    "        return 2\n",
    "    elif k == ['HYP']:\n",
    "        return 3\n",
    "    elif k == ['CD']:\n",
    "        return 4\n",
    "    else:\n",
    "        return 0\n",
    "database[\"class\"] = database.diagnostic_superclass.apply(classes)"
   ]
  },
  {
   "cell_type": "code",
   "execution_count": 47,
   "id": "90e3eeb2",
   "metadata": {},
   "outputs": [],
   "source": [
    "database = database[(database[\"class\"]==0) | (database[\"class\"] == 1)]"
   ]
  },
  {
   "cell_type": "code",
   "execution_count": 48,
   "id": "27d9d114",
   "metadata": {},
   "outputs": [],
   "source": [
    "database.reset_index(inplace= True)\n",
    "database.to_pickle(\"database_with_baseline_drift_and_noise_cols_(norm & mi).pkl\")"
   ]
  },
  {
   "cell_type": "code",
   "execution_count": 65,
   "id": "2b8781c4",
   "metadata": {},
   "outputs": [
    {
     "name": "stdout",
     "output_type": "stream",
     "text": [
      "11621\n"
     ]
    },
    {
     "data": {
      "text/html": [
       "<div>\n",
       "<style scoped>\n",
       "    .dataframe tbody tr th:only-of-type {\n",
       "        vertical-align: middle;\n",
       "    }\n",
       "\n",
       "    .dataframe tbody tr th {\n",
       "        vertical-align: top;\n",
       "    }\n",
       "\n",
       "    .dataframe thead th {\n",
       "        text-align: right;\n",
       "    }\n",
       "</style>\n",
       "<table border=\"1\" class=\"dataframe\">\n",
       "  <thead>\n",
       "    <tr style=\"text-align: right;\">\n",
       "      <th></th>\n",
       "      <th>level_0</th>\n",
       "      <th>index</th>\n",
       "      <th>patient_id</th>\n",
       "      <th>age</th>\n",
       "      <th>sex</th>\n",
       "      <th>nurse</th>\n",
       "      <th>site</th>\n",
       "      <th>device</th>\n",
       "      <th>recording_date</th>\n",
       "      <th>report</th>\n",
       "      <th>...</th>\n",
       "      <th>validated_by_human</th>\n",
       "      <th>baseline_drift</th>\n",
       "      <th>static_noise</th>\n",
       "      <th>burst_noise</th>\n",
       "      <th>strat_fold</th>\n",
       "      <th>filename_lr</th>\n",
       "      <th>filename_hr</th>\n",
       "      <th>diagnostic_superclass</th>\n",
       "      <th>diagnostic_superclass_len</th>\n",
       "      <th>class</th>\n",
       "    </tr>\n",
       "  </thead>\n",
       "  <tbody>\n",
       "    <tr>\n",
       "      <th>0</th>\n",
       "      <td>0</td>\n",
       "      <td>0</td>\n",
       "      <td>15709.0</td>\n",
       "      <td>56.0</td>\n",
       "      <td>1</td>\n",
       "      <td>2.0</td>\n",
       "      <td>0.0</td>\n",
       "      <td>CS-12   E</td>\n",
       "      <td>1984-11-09 09:17:34</td>\n",
       "      <td>sinusrhythmus periphere niederspannung</td>\n",
       "      <td>...</td>\n",
       "      <td>True</td>\n",
       "      <td>NaN</td>\n",
       "      <td>, I-V1,</td>\n",
       "      <td>NaN</td>\n",
       "      <td>3</td>\n",
       "      <td>records100/00000/00001_lr</td>\n",
       "      <td>records500/00000/00001_hr</td>\n",
       "      <td>[NORM]</td>\n",
       "      <td>1</td>\n",
       "      <td>0</td>\n",
       "    </tr>\n",
       "    <tr>\n",
       "      <th>1</th>\n",
       "      <td>1</td>\n",
       "      <td>1</td>\n",
       "      <td>13243.0</td>\n",
       "      <td>19.0</td>\n",
       "      <td>0</td>\n",
       "      <td>2.0</td>\n",
       "      <td>0.0</td>\n",
       "      <td>CS-12   E</td>\n",
       "      <td>1984-11-14 12:55:37</td>\n",
       "      <td>sinusbradykardie sonst normales ekg</td>\n",
       "      <td>...</td>\n",
       "      <td>True</td>\n",
       "      <td>NaN</td>\n",
       "      <td>NaN</td>\n",
       "      <td>NaN</td>\n",
       "      <td>2</td>\n",
       "      <td>records100/00000/00002_lr</td>\n",
       "      <td>records500/00000/00002_hr</td>\n",
       "      <td>[NORM]</td>\n",
       "      <td>1</td>\n",
       "      <td>0</td>\n",
       "    </tr>\n",
       "    <tr>\n",
       "      <th>2</th>\n",
       "      <td>2</td>\n",
       "      <td>2</td>\n",
       "      <td>20372.0</td>\n",
       "      <td>37.0</td>\n",
       "      <td>1</td>\n",
       "      <td>2.0</td>\n",
       "      <td>0.0</td>\n",
       "      <td>CS-12   E</td>\n",
       "      <td>1984-11-15 12:49:10</td>\n",
       "      <td>sinusrhythmus normales ekg</td>\n",
       "      <td>...</td>\n",
       "      <td>True</td>\n",
       "      <td>NaN</td>\n",
       "      <td>NaN</td>\n",
       "      <td>NaN</td>\n",
       "      <td>5</td>\n",
       "      <td>records100/00000/00003_lr</td>\n",
       "      <td>records500/00000/00003_hr</td>\n",
       "      <td>[NORM]</td>\n",
       "      <td>1</td>\n",
       "      <td>0</td>\n",
       "    </tr>\n",
       "    <tr>\n",
       "      <th>3</th>\n",
       "      <td>3</td>\n",
       "      <td>3</td>\n",
       "      <td>17014.0</td>\n",
       "      <td>24.0</td>\n",
       "      <td>0</td>\n",
       "      <td>2.0</td>\n",
       "      <td>0.0</td>\n",
       "      <td>CS-12   E</td>\n",
       "      <td>1984-11-15 13:44:57</td>\n",
       "      <td>sinusrhythmus normales ekg</td>\n",
       "      <td>...</td>\n",
       "      <td>True</td>\n",
       "      <td>, II,III,AVF</td>\n",
       "      <td>NaN</td>\n",
       "      <td>NaN</td>\n",
       "      <td>3</td>\n",
       "      <td>records100/00000/00004_lr</td>\n",
       "      <td>records500/00000/00004_hr</td>\n",
       "      <td>[NORM]</td>\n",
       "      <td>1</td>\n",
       "      <td>0</td>\n",
       "    </tr>\n",
       "    <tr>\n",
       "      <th>4</th>\n",
       "      <td>4</td>\n",
       "      <td>4</td>\n",
       "      <td>17448.0</td>\n",
       "      <td>19.0</td>\n",
       "      <td>1</td>\n",
       "      <td>2.0</td>\n",
       "      <td>0.0</td>\n",
       "      <td>CS-12   E</td>\n",
       "      <td>1984-11-17 10:43:15</td>\n",
       "      <td>sinusrhythmus normales ekg</td>\n",
       "      <td>...</td>\n",
       "      <td>True</td>\n",
       "      <td>, III,AVR,AVF</td>\n",
       "      <td>NaN</td>\n",
       "      <td>NaN</td>\n",
       "      <td>4</td>\n",
       "      <td>records100/00000/00005_lr</td>\n",
       "      <td>records500/00000/00005_hr</td>\n",
       "      <td>[NORM]</td>\n",
       "      <td>1</td>\n",
       "      <td>0</td>\n",
       "    </tr>\n",
       "  </tbody>\n",
       "</table>\n",
       "<p>5 rows × 24 columns</p>\n",
       "</div>"
      ],
      "text/plain": [
       "   level_0  index  patient_id   age  sex  nurse  site     device  \\\n",
       "0        0      0     15709.0  56.0    1    2.0   0.0  CS-12   E   \n",
       "1        1      1     13243.0  19.0    0    2.0   0.0  CS-12   E   \n",
       "2        2      2     20372.0  37.0    1    2.0   0.0  CS-12   E   \n",
       "3        3      3     17014.0  24.0    0    2.0   0.0  CS-12   E   \n",
       "4        4      4     17448.0  19.0    1    2.0   0.0  CS-12   E   \n",
       "\n",
       "        recording_date                                  report  ...  \\\n",
       "0  1984-11-09 09:17:34  sinusrhythmus periphere niederspannung  ...   \n",
       "1  1984-11-14 12:55:37     sinusbradykardie sonst normales ekg  ...   \n",
       "2  1984-11-15 12:49:10              sinusrhythmus normales ekg  ...   \n",
       "3  1984-11-15 13:44:57              sinusrhythmus normales ekg  ...   \n",
       "4  1984-11-17 10:43:15              sinusrhythmus normales ekg  ...   \n",
       "\n",
       "  validated_by_human  baseline_drift  static_noise  burst_noise  strat_fold  \\\n",
       "0               True             NaN     , I-V1,            NaN           3   \n",
       "1               True             NaN           NaN          NaN           2   \n",
       "2               True             NaN           NaN          NaN           5   \n",
       "3               True    , II,III,AVF           NaN          NaN           3   \n",
       "4               True   , III,AVR,AVF           NaN          NaN           4   \n",
       "\n",
       "                 filename_lr                filename_hr diagnostic_superclass  \\\n",
       "0  records100/00000/00001_lr  records500/00000/00001_hr                [NORM]   \n",
       "1  records100/00000/00002_lr  records500/00000/00002_hr                [NORM]   \n",
       "2  records100/00000/00003_lr  records500/00000/00003_hr                [NORM]   \n",
       "3  records100/00000/00004_lr  records500/00000/00004_hr                [NORM]   \n",
       "4  records100/00000/00005_lr  records500/00000/00005_hr                [NORM]   \n",
       "\n",
       "   diagnostic_superclass_len class  \n",
       "0                          1     0  \n",
       "1                          1     0  \n",
       "2                          1     0  \n",
       "3                          1     0  \n",
       "4                          1     0  \n",
       "\n",
       "[5 rows x 24 columns]"
      ]
     },
     "execution_count": 65,
     "metadata": {},
     "output_type": "execute_result"
    }
   ],
   "source": [
    "print(len(database[\"baseline_drift\"]))\n",
    "database.head()"
   ]
  },
  {
   "cell_type": "code",
   "execution_count": 70,
   "id": "23652ffc",
   "metadata": {},
   "outputs": [],
   "source": [
    "df_with_blw_file_class = database[['baseline_drift', 'filename_hr', 'class']]"
   ]
  },
  {
   "cell_type": "code",
   "execution_count": 74,
   "id": "2c9807a4",
   "metadata": {},
   "outputs": [
    {
     "data": {
      "text/plain": [
       "array([0, 1], dtype=int64)"
      ]
     },
     "execution_count": 74,
     "metadata": {},
     "output_type": "execute_result"
    }
   ],
   "source": [
    "df_with_blw_file_class[\"class\"].unique()"
   ]
  },
  {
   "cell_type": "code",
   "execution_count": 75,
   "id": "6f8bd7af",
   "metadata": {},
   "outputs": [],
   "source": [
    "df_with_blw_file_class.to_pickle(path_pkl + \"df_with_blw_file_class_(all norm & mi).pkl\")"
   ]
  },
  {
   "cell_type": "code",
   "execution_count": 77,
   "id": "9390385e",
   "metadata": {},
   "outputs": [],
   "source": [
    "df = df_with_blw_file_class"
   ]
  },
  {
   "cell_type": "code",
   "execution_count": 78,
   "id": "58f19e23",
   "metadata": {},
   "outputs": [],
   "source": [
    "normal_dataframe = df[df[\"class\"] == 0]\n",
    "mi_dataframe = df[df[\"class\"] == 1]"
   ]
  },
  {
   "cell_type": "code",
   "execution_count": 79,
   "id": "d1182436",
   "metadata": {},
   "outputs": [
    {
     "data": {
      "text/html": [
       "<div>\n",
       "<style scoped>\n",
       "    .dataframe tbody tr th:only-of-type {\n",
       "        vertical-align: middle;\n",
       "    }\n",
       "\n",
       "    .dataframe tbody tr th {\n",
       "        vertical-align: top;\n",
       "    }\n",
       "\n",
       "    .dataframe thead th {\n",
       "        text-align: right;\n",
       "    }\n",
       "</style>\n",
       "<table border=\"1\" class=\"dataframe\">\n",
       "  <thead>\n",
       "    <tr style=\"text-align: right;\">\n",
       "      <th></th>\n",
       "      <th>baseline_drift</th>\n",
       "      <th>filename_hr</th>\n",
       "      <th>class</th>\n",
       "    </tr>\n",
       "  </thead>\n",
       "  <tbody>\n",
       "    <tr>\n",
       "      <th>0</th>\n",
       "      <td>NaN</td>\n",
       "      <td>records500/00000/00001_hr</td>\n",
       "      <td>0</td>\n",
       "    </tr>\n",
       "    <tr>\n",
       "      <th>1</th>\n",
       "      <td>NaN</td>\n",
       "      <td>records500/00000/00002_hr</td>\n",
       "      <td>0</td>\n",
       "    </tr>\n",
       "    <tr>\n",
       "      <th>2</th>\n",
       "      <td>NaN</td>\n",
       "      <td>records500/00000/00003_hr</td>\n",
       "      <td>0</td>\n",
       "    </tr>\n",
       "    <tr>\n",
       "      <th>3</th>\n",
       "      <td>, II,III,AVF</td>\n",
       "      <td>records500/00000/00004_hr</td>\n",
       "      <td>0</td>\n",
       "    </tr>\n",
       "    <tr>\n",
       "      <th>4</th>\n",
       "      <td>, III,AVR,AVF</td>\n",
       "      <td>records500/00000/00005_hr</td>\n",
       "      <td>0</td>\n",
       "    </tr>\n",
       "    <tr>\n",
       "      <th>...</th>\n",
       "      <td>...</td>\n",
       "      <td>...</td>\n",
       "      <td>...</td>\n",
       "    </tr>\n",
       "    <tr>\n",
       "      <th>11616</th>\n",
       "      <td>NaN</td>\n",
       "      <td>records500/21000/21830_hr</td>\n",
       "      <td>0</td>\n",
       "    </tr>\n",
       "    <tr>\n",
       "      <th>11617</th>\n",
       "      <td>NaN</td>\n",
       "      <td>records500/21000/21831_hr</td>\n",
       "      <td>0</td>\n",
       "    </tr>\n",
       "    <tr>\n",
       "      <th>11618</th>\n",
       "      <td>NaN</td>\n",
       "      <td>records500/21000/21834_hr</td>\n",
       "      <td>0</td>\n",
       "    </tr>\n",
       "    <tr>\n",
       "      <th>11619</th>\n",
       "      <td>NaN</td>\n",
       "      <td>records500/21000/21836_hr</td>\n",
       "      <td>0</td>\n",
       "    </tr>\n",
       "    <tr>\n",
       "      <th>11620</th>\n",
       "      <td>NaN</td>\n",
       "      <td>records500/21000/21837_hr</td>\n",
       "      <td>0</td>\n",
       "    </tr>\n",
       "  </tbody>\n",
       "</table>\n",
       "<p>9083 rows × 3 columns</p>\n",
       "</div>"
      ],
      "text/plain": [
       "       baseline_drift                filename_hr  class\n",
       "0                 NaN  records500/00000/00001_hr      0\n",
       "1                 NaN  records500/00000/00002_hr      0\n",
       "2                 NaN  records500/00000/00003_hr      0\n",
       "3        , II,III,AVF  records500/00000/00004_hr      0\n",
       "4       , III,AVR,AVF  records500/00000/00005_hr      0\n",
       "...               ...                        ...    ...\n",
       "11616             NaN  records500/21000/21830_hr      0\n",
       "11617             NaN  records500/21000/21831_hr      0\n",
       "11618             NaN  records500/21000/21834_hr      0\n",
       "11619             NaN  records500/21000/21836_hr      0\n",
       "11620             NaN  records500/21000/21837_hr      0\n",
       "\n",
       "[9083 rows x 3 columns]"
      ]
     },
     "execution_count": 79,
     "metadata": {},
     "output_type": "execute_result"
    }
   ],
   "source": [
    "def load_raw_data(df, sampling_rate, path):\n",
    "    # Loading all data with signal and meta information\n",
    "    if sampling_rate == 100:\n",
    "        data = [wfdb.rdsamp(path+f) for f in df.filename_lr]\n",
    "    else:\n",
    "        data = [wfdb.rdsamp(path+f) for f in df.filename_hr]\n",
    "     \n",
    "    # Eliminating meta information. We are selecting only signal value of 12 leads \n",
    "    data = np.array([signal for signal, meta in data])\n",
    "    return data\n",
    "\n",
    "\n",
    "# Load raw signals for both normal and mi data\n",
    "normal = load_raw_data(normal_dataframe, sampling_rate, path)\n",
    "mi = load_raw_data(mi_dataframe, sampling_rate, path)"
   ]
  },
  {
   "cell_type": "code",
   "execution_count": 103,
   "id": "0851241d",
   "metadata": {},
   "outputs": [],
   "source": [
    "normal_dataframe.reset_index(inplace = True)\n",
    "mi_dataframe.reset_index(inplace = True)"
   ]
  },
  {
   "cell_type": "code",
   "execution_count": 107,
   "id": "6f6ca696",
   "metadata": {},
   "outputs": [
    {
     "name": "stderr",
     "output_type": "stream",
     "text": [
      "C:\\Users\\vedag\\AppData\\Local\\Programs\\Python\\Python310\\lib\\site-packages\\pandas\\core\\frame.py:4906: SettingWithCopyWarning: \n",
      "A value is trying to be set on a copy of a slice from a DataFrame\n",
      "\n",
      "See the caveats in the documentation: https://pandas.pydata.org/pandas-docs/stable/user_guide/indexing.html#returning-a-view-versus-a-copy\n",
      "  return super().drop(\n"
     ]
    }
   ],
   "source": [
    "normal_dataframe.drop([\"index\"], axis = 1,inplace = True)\n",
    "mi_dataframe.drop([\"index\"], axis = 1,inplace = True)"
   ]
  },
  {
   "cell_type": "code",
   "execution_count": 110,
   "id": "65cb2f7d",
   "metadata": {},
   "outputs": [],
   "source": [
    "mi_dataframe.to_pickle(path_pkl + \"dataframe_all_mi_signals(with bslD, filename, class).pkl\")\n",
    "normal_dataframe.to_pickle(path_pkl + \"dataframe_all_normal_signals(with bslD, filename, class).pkl\")"
   ]
  },
  {
   "cell_type": "code",
   "execution_count": 112,
   "id": "1fb0efe3",
   "metadata": {},
   "outputs": [],
   "source": [
    "d = pd.DataFrame()"
   ]
  },
  {
   "cell_type": "code",
   "execution_count": 118,
   "id": "6702e7b9",
   "metadata": {},
   "outputs": [
    {
     "name": "stderr",
     "output_type": "stream",
     "text": [
      "C:\\Users\\vedag\\AppData\\Local\\Temp/ipykernel_9448/4197961742.py:1: SettingWithCopyWarning: \n",
      "A value is trying to be set on a copy of a slice from a DataFrame.\n",
      "Try using .loc[row_indexer,col_indexer] = value instead\n",
      "\n",
      "See the caveats in the documentation: https://pandas.pydata.org/pandas-docs/stable/user_guide/indexing.html#returning-a-view-versus-a-copy\n",
      "  normal_dataframe['baseline_drift'] = normal_dataframe['baseline_drift'].fillna(0)\n"
     ]
    }
   ],
   "source": [
    "normal_dataframe['baseline_drift'] = normal_dataframe['baseline_drift'].fillna(0)"
   ]
  },
  {
   "cell_type": "code",
   "execution_count": 119,
   "id": "a08b0c52",
   "metadata": {},
   "outputs": [
    {
     "name": "stderr",
     "output_type": "stream",
     "text": [
      "C:\\Users\\vedag\\AppData\\Local\\Temp/ipykernel_9448/3659596521.py:1: SettingWithCopyWarning: \n",
      "A value is trying to be set on a copy of a slice from a DataFrame.\n",
      "Try using .loc[row_indexer,col_indexer] = value instead\n",
      "\n",
      "See the caveats in the documentation: https://pandas.pydata.org/pandas-docs/stable/user_guide/indexing.html#returning-a-view-versus-a-copy\n",
      "  mi_dataframe['baseline_drift'] = mi_dataframe['baseline_drift'].fillna(0)\n"
     ]
    }
   ],
   "source": [
    "mi_dataframe['baseline_drift'] = mi_dataframe['baseline_drift'].fillna(0)"
   ]
  },
  {
   "cell_type": "code",
   "execution_count": 123,
   "id": "5a30cb3d",
   "metadata": {},
   "outputs": [
    {
     "name": "stderr",
     "output_type": "stream",
     "text": [
      "C:\\Users\\vedag\\AppData\\Local\\Temp/ipykernel_9448/3207342189.py:2: SettingWithCopyWarning: \n",
      "A value is trying to be set on a copy of a slice from a DataFrame.\n",
      "Try using .loc[row_indexer,col_indexer] = value instead\n",
      "\n",
      "See the caveats in the documentation: https://pandas.pydata.org/pandas-docs/stable/user_guide/indexing.html#returning-a-view-versus-a-copy\n",
      "  normal_dataframe['baseline_drift'] = normal_dataframe['baseline_drift'].replace(0, 'NA')\n",
      "C:\\Users\\vedag\\AppData\\Local\\Temp/ipykernel_9448/3207342189.py:3: SettingWithCopyWarning: \n",
      "A value is trying to be set on a copy of a slice from a DataFrame.\n",
      "Try using .loc[row_indexer,col_indexer] = value instead\n",
      "\n",
      "See the caveats in the documentation: https://pandas.pydata.org/pandas-docs/stable/user_guide/indexing.html#returning-a-view-versus-a-copy\n",
      "  mi_dataframe['baseline_drift'] = mi_dataframe['baseline_drift'].replace(0, 'NA')\n"
     ]
    }
   ],
   "source": [
    "# df['DataFrame Column'] = df['DataFrame Column'].replace(np.nan, 0)\n",
    "normal_dataframe['baseline_drift'] = normal_dataframe['baseline_drift'].replace(0, 'NA')\n",
    "mi_dataframe['baseline_drift'] = mi_dataframe['baseline_drift'].replace(0, 'NA')"
   ]
  },
  {
   "cell_type": "code",
   "execution_count": 124,
   "id": "e1982052",
   "metadata": {},
   "outputs": [],
   "source": [
    "mi_dataframe.to_pickle(path_pkl + \"dataframe_all_mi_signals(with bslD, filename, class).pkl\")\n",
    "normal_dataframe.to_pickle(path_pkl + \"dataframe_all_normal_signals(with bslD, filename, class).pkl\")"
   ]
  },
  {
   "cell_type": "code",
   "execution_count": 143,
   "id": "31782e87",
   "metadata": {},
   "outputs": [
    {
     "name": "stderr",
     "output_type": "stream",
     "text": [
      "C:\\Users\\vedag\\AppData\\Local\\Temp/ipykernel_9448/2675909111.py:13: SettingWithCopyWarning: \n",
      "A value is trying to be set on a copy of a slice from a DataFrame.\n",
      "Try using .loc[row_indexer,col_indexer] = value instead\n",
      "\n",
      "See the caveats in the documentation: https://pandas.pydata.org/pandas-docs/stable/user_guide/indexing.html#returning-a-view-versus-a-copy\n",
      "  normal_dataframe[\"Lead2_baseline_wandering\"] = normal_dataframe.baseline_drift.apply(baseline_wandering)\n",
      "C:\\Users\\vedag\\AppData\\Local\\Temp/ipykernel_9448/2675909111.py:14: SettingWithCopyWarning: \n",
      "A value is trying to be set on a copy of a slice from a DataFrame.\n",
      "Try using .loc[row_indexer,col_indexer] = value instead\n",
      "\n",
      "See the caveats in the documentation: https://pandas.pydata.org/pandas-docs/stable/user_guide/indexing.html#returning-a-view-versus-a-copy\n",
      "  mi_dataframe[\"Lead2_baseline_wandering\"] = mi_dataframe.baseline_drift.apply(baseline_wandering)\n"
     ]
    }
   ],
   "source": [
    "def baseline_wandering(X):\n",
    "    if \"alles\" in X:\n",
    "        return 1\n",
    "    elif \" II,\" in X:\n",
    "        return 1\n",
    "    elif \" II-\" in X:\n",
    "        return 1\n",
    "    elif \",II,\" in X:\n",
    "        return 1\n",
    "    else:\n",
    "        return 0\n",
    "    \n",
    "normal_dataframe[\"Lead2_baseline_wandering\"] = normal_dataframe.baseline_drift.apply(baseline_wandering)\n",
    "mi_dataframe[\"Lead2_baseline_wandering\"] = mi_dataframe.baseline_drift.apply(baseline_wandering)"
   ]
  },
  {
   "cell_type": "code",
   "execution_count": 147,
   "id": "18eef932",
   "metadata": {},
   "outputs": [],
   "source": [
    "mi_dataframe.to_pickle(path_pkl + \"dataframe_all_mi_signals(with bslD, filename, class, baseline wandering).pkl\")\n",
    "normal_dataframe.to_pickle(path_pkl + \"dataframe_all_normal_signals(with bslD, filename, class, baseline wandering).pkl\")"
   ]
  },
  {
   "cell_type": "code",
   "execution_count": 37,
   "id": "6da2931a",
   "metadata": {},
   "outputs": [],
   "source": [
    "def cleaner(data):\n",
    "    wavelet_type='db6'\n",
    "\n",
    "    DWTcoeffs = pywt.wavedec(data,wavelet_type,mode='symmetric', level=9, axis=-1)\n",
    "\n",
    "    DWTcoeffs[-1] = np.zeros_like(DWTcoeffs[-1])\n",
    "    DWTcoeffs[-2] = np.zeros_like(DWTcoeffs[-2])\n",
    "    DWTcoeffs[-3] = np.zeros_like(DWTcoeffs[-3])\n",
    "    DWTcoeffs[-4] = np.zeros_like(DWTcoeffs[-4])\n",
    "    DWTcoeffs[-5] = np.zeros_like(DWTcoeffs[-5])\n",
    "    DWTcoeffs[-6] = np.zeros_like(DWTcoeffs[-6])\n",
    "    DWTcoeffs[-7] = np.zeros_like(DWTcoeffs[-7])\n",
    "    DWTcoeffs[-8] = np.zeros_like(DWTcoeffs[-8])\n",
    "    DWTcoeffs[-9] = np.zeros_like(DWTcoeffs[-9])\n",
    "\n",
    "\n",
    "    mean_line =pywt.waverec(DWTcoeffs,wavelet_type,mode='symmetric',axis=-1)\n",
    "    cleaned = []\n",
    "    for i in range(len(data)):\n",
    "        cleaned.append(data[i] - mean_line[i])\n",
    "    \n",
    "    return cleaned"
   ]
  },
  {
   "cell_type": "code",
   "execution_count": 38,
   "id": "7601e513",
   "metadata": {},
   "outputs": [
    {
     "name": "stderr",
     "output_type": "stream",
     "text": [
      "C:\\Users\\vedag\\AppData\\Local\\Programs\\Python\\Python310\\lib\\site-packages\\pywt\\_multilevel.py:43: UserWarning: Level value of 9 is too high: all coefficients will experience boundary effects.\n",
      "  warnings.warn(\n"
     ]
    }
   ],
   "source": [
    "def load_lead2_raw_data(df, path):\n",
    "    data_lead2 = []\n",
    "    for i in range(len(df)):\n",
    "        f = df.loc[i].filename_hr\n",
    "        data_12leads = [wfdb.rdsamp(path+f)]\n",
    "        data_12leads = np.array([signal for signal, meta in data_12leads])\n",
    "\n",
    "        lead2 = []\n",
    "        for sample in data_12leads[0]:\n",
    "            lead2.append(sample[1])\n",
    "\n",
    "        if df.loc[i].Lead2_baseline_wandering == 0:\n",
    "            data_lead2.append(lead2)\n",
    "        else:\n",
    "            data_lead2.append(cleaner(lead2)) \n",
    "\n",
    "    return np.array(data_lead2)\n",
    "\n",
    "\n",
    "# Load raw signal data\n",
    "normal_lead2 = load_lead2_raw_data(normal_dataframe, path)\n",
    "mi_lead2 = load_lead2_raw_data(mi_dataframe, path)"
   ]
  },
  {
   "cell_type": "code",
   "execution_count": 40,
   "id": "7d27c0f2",
   "metadata": {},
   "outputs": [
    {
     "data": {
      "text/plain": [
       "(9083, 5000)"
      ]
     },
     "execution_count": 40,
     "metadata": {},
     "output_type": "execute_result"
    }
   ],
   "source": [
    "normal_lead2.shape"
   ]
  },
  {
   "cell_type": "code",
   "execution_count": 177,
   "id": "cf1572d8",
   "metadata": {},
   "outputs": [
    {
     "data": {
      "text/plain": [
       "2538"
      ]
     },
     "execution_count": 177,
     "metadata": {},
     "output_type": "execute_result"
    }
   ],
   "source": [
    "len(mi_lead2)"
   ]
  },
  {
   "cell_type": "code",
   "execution_count": 41,
   "id": "1aa35aac",
   "metadata": {},
   "outputs": [],
   "source": [
    "with open(\"normal_lead2_cleaned_with_df_help.pkl\", \"wb\") as f: pickle.dump(normal_lead2, f)\n",
    "with open(\"mi_lead2_cleaned_with_df_help.pkl\", \"wb\") as f: pickle.dump(mi_lead2, f)"
   ]
  },
  {
   "cell_type": "code",
   "execution_count": 42,
   "id": "ff8de78f",
   "metadata": {},
   "outputs": [],
   "source": [
    "normal_lead2 = pd.read_pickle(\"normal_lead2_cleaned_with_df_help.pkl\")\n",
    "mi_lead2 = pd.read_pickle(\"mi_lead2_cleaned_with_df_help.pkl\")"
   ]
  },
  {
   "cell_type": "code",
   "execution_count": 43,
   "id": "9605f416",
   "metadata": {},
   "outputs": [
    {
     "data": {
      "text/plain": [
       "(numpy.ndarray, numpy.ndarray)"
      ]
     },
     "execution_count": 43,
     "metadata": {},
     "output_type": "execute_result"
    }
   ],
   "source": [
    "type(normal_lead2), type(mi_lead2)"
   ]
  },
  {
   "cell_type": "code",
   "execution_count": 45,
   "id": "86a92040",
   "metadata": {},
   "outputs": [
    {
     "data": {
      "text/plain": [
       "[<matplotlib.lines.Line2D at 0x1c8b00bd210>]"
      ]
     },
     "execution_count": 45,
     "metadata": {},
     "output_type": "execute_result"
    },
    {
     "data": {
      "image/png": "[encoded data removed]",
      "text/plain": [
       "<Figure size 432x288 with 1 Axes>"
      ]
     },
     "metadata": {
      "needs_background": "light"
     },
     "output_type": "display_data"
    }
   ],
   "source": [
    "plt.plot(normal_lead2[0])"
   ]
  },
  {
   "cell_type": "code",
   "execution_count": 65,
   "id": "2123b172",
   "metadata": {},
   "outputs": [
    {
     "data": {
      "text/plain": [
       "[<matplotlib.lines.Line2D at 0x1c8c841d690>]"
      ]
     },
     "execution_count": 65,
     "metadata": {},
     "output_type": "execute_result"
    },
    {
     "data": {
      "image/png": "[encoded data removed]",
      "text/plain": [
       "<Figure size 432x288 with 1 Axes>"
      ]
     },
     "metadata": {
      "needs_background": "light"
     },
     "output_type": "display_data"
    }
   ],
   "source": [
    "plt.plot(mi_lead2[0])"
   ]
  },
  {
   "cell_type": "code",
   "execution_count": 46,
   "id": "0fcddd1f",
   "metadata": {},
   "outputs": [],
   "source": [
    "x_input = []\n",
    "y_input = []\n",
    "for i in range(500):\n",
    "    x_input.append(normal_lead2[i])\n",
    "    y_input.append(0)\n",
    "    \n",
    "    x_input.append(mi_lead2[i])\n",
    "    y_input.append(1)"
   ]
  },
  {
   "cell_type": "code",
   "execution_count": 48,
   "id": "d883a3a1",
   "metadata": {},
   "outputs": [],
   "source": [
    "x_input = np.array(x_input)\n",
    "y_input = np.array(y_input)"
   ]
  },
  {
   "cell_type": "code",
   "execution_count": 50,
   "id": "831ce185",
   "metadata": {},
   "outputs": [],
   "source": [
    "model = Resnet50((5000, 1))"
   ]
  },
  {
   "cell_type": "code",
   "execution_count": 52,
   "id": "ecd68fb5",
   "metadata": {},
   "outputs": [
    {
     "name": "stdout",
     "output_type": "stream",
     "text": [
      "Model: \"ResNet50\"\n",
      "__________________________________________________________________________________________________\n",
      " Layer (type)                   Output Shape         Param #     Connected to                     \n",
      "==================================================================================================\n",
      " input_1 (InputLayer)           [(None, 5000, 1)]    0           []                               \n",
      "                                                                                                  \n",
      " conv1d (Conv1D)                (None, 5000, 32)     64          ['input_1[0][0]']                \n",
      "                                                                                                  \n",
      " batch_normalization (BatchNorm  (None, 5000, 32)    128         ['conv1d[0][0]']                 \n",
      " alization)                                                                                       \n",
      "                                                                                                  \n",
      " re_lu (ReLU)                   (None, 5000, 32)     0           ['batch_normalization[0][0]']    \n",
      "                                                                                                  \n",
      " max_pooling1d (MaxPooling1D)   (None, 2500, 32)     0           ['re_lu[0][0]']                  \n",
      "                                                                                                  \n",
      " conv1d_1 (Conv1D)              (None, 2500, 64)     2112        ['max_pooling1d[0][0]']          \n",
      "                                                                                                  \n",
      " batch_normalization_1 (BatchNo  (None, 2500, 64)    256         ['conv1d_1[0][0]']               \n",
      " rmalization)                                                                                     \n",
      "                                                                                                  \n",
      " batch_normalization_2 (BatchNo  (None, 2500, 64)    256         ['batch_normalization_1[0][0]']  \n",
      " rmalization)                                                                                     \n",
      "                                                                                                  \n",
      " re_lu_1 (ReLU)                 (None, 2500, 64)     0           ['batch_normalization_2[0][0]']  \n",
      "                                                                                                  \n",
      " conv1d_2 (Conv1D)              (None, 2500, 64)     4160        ['re_lu_1[0][0]']                \n",
      "                                                                                                  \n",
      " batch_normalization_3 (BatchNo  (None, 2500, 64)    256         ['conv1d_2[0][0]']               \n",
      " rmalization)                                                                                     \n",
      "                                                                                                  \n",
      " batch_normalization_4 (BatchNo  (None, 2500, 64)    256         ['batch_normalization_3[0][0]']  \n",
      " rmalization)                                                                                     \n",
      "                                                                                                  \n",
      " re_lu_2 (ReLU)                 (None, 2500, 64)     0           ['batch_normalization_4[0][0]']  \n",
      "                                                                                                  \n",
      " conv1d_3 (Conv1D)              (None, 2500, 256)    16640       ['re_lu_2[0][0]']                \n",
      "                                                                                                  \n",
      " batch_normalization_5 (BatchNo  (None, 2500, 256)   1024        ['conv1d_3[0][0]']               \n",
      " rmalization)                                                                                     \n",
      "                                                                                                  \n",
      " batch_normalization_6 (BatchNo  (None, 2500, 256)   1024        ['batch_normalization_5[0][0]']  \n",
      " rmalization)                                                                                     \n",
      "                                                                                                  \n",
      " add (Add)                      (None, 2500, 256)    0           ['batch_normalization_5[0][0]',  \n",
      "                                                                  'batch_normalization_6[0][0]']  \n",
      "                                                                                                  \n",
      " re_lu_3 (ReLU)                 (None, 2500, 256)    0           ['add[0][0]']                    \n",
      "                                                                                                  \n",
      " conv1d_5 (Conv1D)              (None, 2500, 64)     16448       ['re_lu_3[0][0]']                \n",
      "                                                                                                  \n",
      " batch_normalization_7 (BatchNo  (None, 2500, 64)    256         ['conv1d_5[0][0]']               \n",
      " rmalization)                                                                                     \n",
      "                                                                                                  \n",
      " batch_normalization_8 (BatchNo  (None, 2500, 64)    256         ['batch_normalization_7[0][0]']  \n",
      " rmalization)                                                                                     \n",
      "                                                                                                  \n",
      " re_lu_4 (ReLU)                 (None, 2500, 64)     0           ['batch_normalization_8[0][0]']  \n",
      "                                                                                                  \n",
      " conv1d_6 (Conv1D)              (None, 2500, 64)     4160        ['re_lu_4[0][0]']                \n",
      "                                                                                                  \n",
      " batch_normalization_9 (BatchNo  (None, 2500, 64)    256         ['conv1d_6[0][0]']               \n",
      " rmalization)                                                                                     \n",
      "                                                                                                  \n",
      " batch_normalization_10 (BatchN  (None, 2500, 64)    256         ['batch_normalization_9[0][0]']  \n",
      " ormalization)                                                                                    \n",
      "                                                                                                  \n",
      " re_lu_5 (ReLU)                 (None, 2500, 64)     0           ['batch_normalization_10[0][0]'] \n",
      "                                                                                                  \n",
      " conv1d_7 (Conv1D)              (None, 2500, 256)    16640       ['re_lu_5[0][0]']                \n",
      "                                                                                                  \n",
      " batch_normalization_11 (BatchN  (None, 2500, 256)   1024        ['conv1d_7[0][0]']               \n",
      " ormalization)                                                                                    \n",
      "                                                                                                  \n",
      " add_1 (Add)                    (None, 2500, 256)    0           ['batch_normalization_11[0][0]', \n",
      "                                                                  're_lu_3[0][0]']                \n",
      "                                                                                                  \n",
      " re_lu_6 (ReLU)                 (None, 2500, 256)    0           ['add_1[0][0]']                  \n",
      "                                                                                                  \n",
      " conv1d_8 (Conv1D)              (None, 2500, 64)     16448       ['re_lu_6[0][0]']                \n",
      "                                                                                                  \n",
      " batch_normalization_12 (BatchN  (None, 2500, 64)    256         ['conv1d_8[0][0]']               \n",
      " ormalization)                                                                                    \n",
      "                                                                                                  \n",
      " batch_normalization_13 (BatchN  (None, 2500, 64)    256         ['batch_normalization_12[0][0]'] \n"
     ]
    },
    {
     "name": "stdout",
     "output_type": "stream",
     "text": [
      " ormalization)                                                                                    \n",
      "                                                                                                  \n",
      " re_lu_7 (ReLU)                 (None, 2500, 64)     0           ['batch_normalization_13[0][0]'] \n",
      "                                                                                                  \n",
      " conv1d_9 (Conv1D)              (None, 2500, 64)     4160        ['re_lu_7[0][0]']                \n",
      "                                                                                                  \n",
      " batch_normalization_14 (BatchN  (None, 2500, 64)    256         ['conv1d_9[0][0]']               \n",
      " ormalization)                                                                                    \n",
      "                                                                                                  \n",
      " batch_normalization_15 (BatchN  (None, 2500, 64)    256         ['batch_normalization_14[0][0]'] \n",
      " ormalization)                                                                                    \n",
      "                                                                                                  \n",
      " re_lu_8 (ReLU)                 (None, 2500, 64)     0           ['batch_normalization_15[0][0]'] \n",
      "                                                                                                  \n",
      " conv1d_10 (Conv1D)             (None, 2500, 256)    16640       ['re_lu_8[0][0]']                \n",
      "                                                                                                  \n",
      " batch_normalization_16 (BatchN  (None, 2500, 256)   1024        ['conv1d_10[0][0]']              \n",
      " ormalization)                                                                                    \n",
      "                                                                                                  \n",
      " add_2 (Add)                    (None, 2500, 256)    0           ['batch_normalization_16[0][0]', \n",
      "                                                                  're_lu_6[0][0]']                \n",
      "                                                                                                  \n",
      " re_lu_9 (ReLU)                 (None, 2500, 256)    0           ['add_2[0][0]']                  \n",
      "                                                                                                  \n",
      " conv1d_11 (Conv1D)             (None, 2500, 128)    32896       ['re_lu_9[0][0]']                \n",
      "                                                                                                  \n",
      " batch_normalization_17 (BatchN  (None, 2500, 128)   512         ['conv1d_11[0][0]']              \n",
      " ormalization)                                                                                    \n",
      "                                                                                                  \n",
      " batch_normalization_18 (BatchN  (None, 2500, 128)   512         ['batch_normalization_17[0][0]'] \n",
      " ormalization)                                                                                    \n",
      "                                                                                                  \n",
      " re_lu_10 (ReLU)                (None, 2500, 128)    0           ['batch_normalization_18[0][0]'] \n",
      "                                                                                                  \n",
      " conv1d_12 (Conv1D)             (None, 2500, 128)    16512       ['re_lu_10[0][0]']               \n",
      "                                                                                                  \n",
      " batch_normalization_19 (BatchN  (None, 2500, 128)   512         ['conv1d_12[0][0]']              \n",
      " ormalization)                                                                                    \n",
      "                                                                                                  \n",
      " batch_normalization_20 (BatchN  (None, 2500, 128)   512         ['batch_normalization_19[0][0]'] \n",
      " ormalization)                                                                                    \n",
      "                                                                                                  \n",
      " re_lu_11 (ReLU)                (None, 2500, 128)    0           ['batch_normalization_20[0][0]'] \n",
      "                                                                                                  \n",
      " conv1d_13 (Conv1D)             (None, 2500, 512)    66048       ['re_lu_11[0][0]']               \n",
      "                                                                                                  \n",
      " batch_normalization_21 (BatchN  (None, 2500, 512)   2048        ['conv1d_13[0][0]']              \n",
      " ormalization)                                                                                    \n",
      "                                                                                                  \n",
      " batch_normalization_22 (BatchN  (None, 2500, 512)   2048        ['batch_normalization_21[0][0]'] \n",
      " ormalization)                                                                                    \n",
      "                                                                                                  \n",
      " add_3 (Add)                    (None, 2500, 512)    0           ['batch_normalization_21[0][0]', \n",
      "                                                                  'batch_normalization_22[0][0]'] \n",
      "                                                                                                  \n",
      " re_lu_12 (ReLU)                (None, 2500, 512)    0           ['add_3[0][0]']                  \n",
      "                                                                                                  \n",
      " conv1d_15 (Conv1D)             (None, 2500, 128)    65664       ['re_lu_12[0][0]']               \n",
      "                                                                                                  \n",
      " batch_normalization_23 (BatchN  (None, 2500, 128)   512         ['conv1d_15[0][0]']              \n",
      " ormalization)                                                                                    \n",
      "                                                                                                  \n",
      " batch_normalization_24 (BatchN  (None, 2500, 128)   512         ['batch_normalization_23[0][0]'] \n",
      " ormalization)                                                                                    \n",
      "                                                                                                  \n",
      " re_lu_13 (ReLU)                (None, 2500, 128)    0           ['batch_normalization_24[0][0]'] \n",
      "                                                                                                  \n",
      " conv1d_16 (Conv1D)             (None, 2500, 128)    16512       ['re_lu_13[0][0]']               \n",
      "                                                                                                  \n",
      " batch_normalization_25 (BatchN  (None, 2500, 128)   512         ['conv1d_16[0][0]']              \n",
      " ormalization)                                                                                    \n",
      "                                                                                                  \n",
      " batch_normalization_26 (BatchN  (None, 2500, 128)   512         ['batch_normalization_25[0][0]'] \n",
      " ormalization)                                                                                    \n",
      "                                                                                                  \n",
      " re_lu_14 (ReLU)                (None, 2500, 128)    0           ['batch_normalization_26[0][0]'] \n",
      "                                                                                                  \n",
      " conv1d_17 (Conv1D)             (None, 2500, 512)    66048       ['re_lu_14[0][0]']               \n",
      "                                                                                                  \n",
      " batch_normalization_27 (BatchN  (None, 2500, 512)   2048        ['conv1d_17[0][0]']              \n",
      " ormalization)                                                                                    \n",
      "                                                                                                  \n",
      " add_4 (Add)                    (None, 2500, 512)    0           ['batch_normalization_27[0][0]', \n"
     ]
    },
    {
     "name": "stdout",
     "output_type": "stream",
     "text": [
      "                                                                  're_lu_12[0][0]']               \n",
      "                                                                                                  \n",
      " re_lu_15 (ReLU)                (None, 2500, 512)    0           ['add_4[0][0]']                  \n",
      "                                                                                                  \n",
      " conv1d_18 (Conv1D)             (None, 2500, 128)    65664       ['re_lu_15[0][0]']               \n",
      "                                                                                                  \n",
      " batch_normalization_28 (BatchN  (None, 2500, 128)   512         ['conv1d_18[0][0]']              \n",
      " ormalization)                                                                                    \n",
      "                                                                                                  \n",
      " batch_normalization_29 (BatchN  (None, 2500, 128)   512         ['batch_normalization_28[0][0]'] \n",
      " ormalization)                                                                                    \n",
      "                                                                                                  \n",
      " re_lu_16 (ReLU)                (None, 2500, 128)    0           ['batch_normalization_29[0][0]'] \n",
      "                                                                                                  \n",
      " conv1d_19 (Conv1D)             (None, 2500, 128)    16512       ['re_lu_16[0][0]']               \n",
      "                                                                                                  \n",
      " batch_normalization_30 (BatchN  (None, 2500, 128)   512         ['conv1d_19[0][0]']              \n",
      " ormalization)                                                                                    \n",
      "                                                                                                  \n",
      " batch_normalization_31 (BatchN  (None, 2500, 128)   512         ['batch_normalization_30[0][0]'] \n",
      " ormalization)                                                                                    \n",
      "                                                                                                  \n",
      " re_lu_17 (ReLU)                (None, 2500, 128)    0           ['batch_normalization_31[0][0]'] \n",
      "                                                                                                  \n",
      " conv1d_20 (Conv1D)             (None, 2500, 512)    66048       ['re_lu_17[0][0]']               \n",
      "                                                                                                  \n",
      " batch_normalization_32 (BatchN  (None, 2500, 512)   2048        ['conv1d_20[0][0]']              \n",
      " ormalization)                                                                                    \n",
      "                                                                                                  \n",
      " add_5 (Add)                    (None, 2500, 512)    0           ['batch_normalization_32[0][0]', \n",
      "                                                                  're_lu_15[0][0]']               \n",
      "                                                                                                  \n",
      " re_lu_18 (ReLU)                (None, 2500, 512)    0           ['add_5[0][0]']                  \n",
      "                                                                                                  \n",
      " conv1d_21 (Conv1D)             (None, 2500, 128)    65664       ['re_lu_18[0][0]']               \n",
      "                                                                                                  \n",
      " batch_normalization_33 (BatchN  (None, 2500, 128)   512         ['conv1d_21[0][0]']              \n",
      " ormalization)                                                                                    \n",
      "                                                                                                  \n",
      " batch_normalization_34 (BatchN  (None, 2500, 128)   512         ['batch_normalization_33[0][0]'] \n",
      " ormalization)                                                                                    \n",
      "                                                                                                  \n",
      " re_lu_19 (ReLU)                (None, 2500, 128)    0           ['batch_normalization_34[0][0]'] \n",
      "                                                                                                  \n",
      " conv1d_22 (Conv1D)             (None, 2500, 128)    16512       ['re_lu_19[0][0]']               \n",
      "                                                                                                  \n",
      " batch_normalization_35 (BatchN  (None, 2500, 128)   512         ['conv1d_22[0][0]']              \n",
      " ormalization)                                                                                    \n",
      "                                                                                                  \n",
      " batch_normalization_36 (BatchN  (None, 2500, 128)   512         ['batch_normalization_35[0][0]'] \n",
      " ormalization)                                                                                    \n",
      "                                                                                                  \n",
      " re_lu_20 (ReLU)                (None, 2500, 128)    0           ['batch_normalization_36[0][0]'] \n",
      "                                                                                                  \n",
      " conv1d_23 (Conv1D)             (None, 2500, 512)    66048       ['re_lu_20[0][0]']               \n",
      "                                                                                                  \n",
      " batch_normalization_37 (BatchN  (None, 2500, 512)   2048        ['conv1d_23[0][0]']              \n",
      " ormalization)                                                                                    \n",
      "                                                                                                  \n",
      " add_6 (Add)                    (None, 2500, 512)    0           ['batch_normalization_37[0][0]', \n",
      "                                                                  're_lu_18[0][0]']               \n",
      "                                                                                                  \n",
      " re_lu_21 (ReLU)                (None, 2500, 512)    0           ['add_6[0][0]']                  \n",
      "                                                                                                  \n",
      " conv1d_24 (Conv1D)             (None, 2500, 256)    131328      ['re_lu_21[0][0]']               \n",
      "                                                                                                  \n",
      " batch_normalization_38 (BatchN  (None, 2500, 256)   1024        ['conv1d_24[0][0]']              \n",
      " ormalization)                                                                                    \n",
      "                                                                                                  \n",
      " batch_normalization_39 (BatchN  (None, 2500, 256)   1024        ['batch_normalization_38[0][0]'] \n",
      " ormalization)                                                                                    \n",
      "                                                                                                  \n",
      " re_lu_22 (ReLU)                (None, 2500, 256)    0           ['batch_normalization_39[0][0]'] \n",
      "                                                                                                  \n",
      " conv1d_25 (Conv1D)             (None, 2500, 256)    65792       ['re_lu_22[0][0]']               \n",
      "                                                                                                  \n",
      " batch_normalization_40 (BatchN  (None, 2500, 256)   1024        ['conv1d_25[0][0]']              \n",
      " ormalization)                                                                                    \n",
      "                                                                                                  \n",
      " batch_normalization_41 (BatchN  (None, 2500, 256)   1024        ['batch_normalization_40[0][0]'] \n",
      " ormalization)                                                                                    \n",
      "                                                                                                  \n",
      " re_lu_23 (ReLU)                (None, 2500, 256)    0           ['batch_normalization_41[0][0]'] \n"
     ]
    },
    {
     "name": "stdout",
     "output_type": "stream",
     "text": [
      "                                                                                                  \n",
      " conv1d_26 (Conv1D)             (None, 2500, 1024)   263168      ['re_lu_23[0][0]']               \n",
      "                                                                                                  \n",
      " batch_normalization_42 (BatchN  (None, 2500, 1024)  4096        ['conv1d_26[0][0]']              \n",
      " ormalization)                                                                                    \n",
      "                                                                                                  \n",
      " batch_normalization_43 (BatchN  (None, 2500, 1024)  4096        ['batch_normalization_42[0][0]'] \n",
      " ormalization)                                                                                    \n",
      "                                                                                                  \n",
      " add_7 (Add)                    (None, 2500, 1024)   0           ['batch_normalization_42[0][0]', \n",
      "                                                                  'batch_normalization_43[0][0]'] \n",
      "                                                                                                  \n",
      " re_lu_24 (ReLU)                (None, 2500, 1024)   0           ['add_7[0][0]']                  \n",
      "                                                                                                  \n",
      " conv1d_28 (Conv1D)             (None, 2500, 256)    262400      ['re_lu_24[0][0]']               \n",
      "                                                                                                  \n",
      " batch_normalization_44 (BatchN  (None, 2500, 256)   1024        ['conv1d_28[0][0]']              \n",
      " ormalization)                                                                                    \n",
      "                                                                                                  \n",
      " batch_normalization_45 (BatchN  (None, 2500, 256)   1024        ['batch_normalization_44[0][0]'] \n",
      " ormalization)                                                                                    \n",
      "                                                                                                  \n",
      " re_lu_25 (ReLU)                (None, 2500, 256)    0           ['batch_normalization_45[0][0]'] \n",
      "                                                                                                  \n",
      " conv1d_29 (Conv1D)             (None, 2500, 256)    65792       ['re_lu_25[0][0]']               \n",
      "                                                                                                  \n",
      " batch_normalization_46 (BatchN  (None, 2500, 256)   1024        ['conv1d_29[0][0]']              \n",
      " ormalization)                                                                                    \n",
      "                                                                                                  \n",
      " batch_normalization_47 (BatchN  (None, 2500, 256)   1024        ['batch_normalization_46[0][0]'] \n",
      " ormalization)                                                                                    \n",
      "                                                                                                  \n",
      " re_lu_26 (ReLU)                (None, 2500, 256)    0           ['batch_normalization_47[0][0]'] \n",
      "                                                                                                  \n",
      " conv1d_30 (Conv1D)             (None, 2500, 1024)   263168      ['re_lu_26[0][0]']               \n",
      "                                                                                                  \n",
      " batch_normalization_48 (BatchN  (None, 2500, 1024)  4096        ['conv1d_30[0][0]']              \n",
      " ormalization)                                                                                    \n",
      "                                                                                                  \n",
      " add_8 (Add)                    (None, 2500, 1024)   0           ['batch_normalization_48[0][0]', \n",
      "                                                                  're_lu_24[0][0]']               \n",
      "                                                                                                  \n",
      " re_lu_27 (ReLU)                (None, 2500, 1024)   0           ['add_8[0][0]']                  \n",
      "                                                                                                  \n",
      " conv1d_31 (Conv1D)             (None, 2500, 256)    262400      ['re_lu_27[0][0]']               \n",
      "                                                                                                  \n",
      " batch_normalization_49 (BatchN  (None, 2500, 256)   1024        ['conv1d_31[0][0]']              \n",
      " ormalization)                                                                                    \n",
      "                                                                                                  \n",
      " batch_normalization_50 (BatchN  (None, 2500, 256)   1024        ['batch_normalization_49[0][0]'] \n",
      " ormalization)                                                                                    \n",
      "                                                                                                  \n",
      " re_lu_28 (ReLU)                (None, 2500, 256)    0           ['batch_normalization_50[0][0]'] \n",
      "                                                                                                  \n",
      " conv1d_32 (Conv1D)             (None, 2500, 256)    65792       ['re_lu_28[0][0]']               \n",
      "                                                                                                  \n",
      " batch_normalization_51 (BatchN  (None, 2500, 256)   1024        ['conv1d_32[0][0]']              \n",
      " ormalization)                                                                                    \n",
      "                                                                                                  \n",
      " batch_normalization_52 (BatchN  (None, 2500, 256)   1024        ['batch_normalization_51[0][0]'] \n",
      " ormalization)                                                                                    \n",
      "                                                                                                  \n",
      " re_lu_29 (ReLU)                (None, 2500, 256)    0           ['batch_normalization_52[0][0]'] \n",
      "                                                                                                  \n",
      " conv1d_33 (Conv1D)             (None, 2500, 1024)   263168      ['re_lu_29[0][0]']               \n",
      "                                                                                                  \n",
      " batch_normalization_53 (BatchN  (None, 2500, 1024)  4096        ['conv1d_33[0][0]']              \n",
      " ormalization)                                                                                    \n",
      "                                                                                                  \n",
      " add_9 (Add)                    (None, 2500, 1024)   0           ['batch_normalization_53[0][0]', \n",
      "                                                                  're_lu_27[0][0]']               \n",
      "                                                                                                  \n",
      " re_lu_30 (ReLU)                (None, 2500, 1024)   0           ['add_9[0][0]']                  \n",
      "                                                                                                  \n",
      " conv1d_34 (Conv1D)             (None, 2500, 256)    262400      ['re_lu_30[0][0]']               \n",
      "                                                                                                  \n",
      " batch_normalization_54 (BatchN  (None, 2500, 256)   1024        ['conv1d_34[0][0]']              \n",
      " ormalization)                                                                                    \n",
      "                                                                                                  \n",
      " batch_normalization_55 (BatchN  (None, 2500, 256)   1024        ['batch_normalization_54[0][0]'] \n",
      " ormalization)                                                                                    \n",
      "                                                                                                  \n",
      " re_lu_31 (ReLU)                (None, 2500, 256)    0           ['batch_normalization_55[0][0]'] \n"
     ]
    },
    {
     "name": "stdout",
     "output_type": "stream",
     "text": [
      "                                                                                                  \n",
      " conv1d_35 (Conv1D)             (None, 2500, 256)    65792       ['re_lu_31[0][0]']               \n",
      "                                                                                                  \n",
      " batch_normalization_56 (BatchN  (None, 2500, 256)   1024        ['conv1d_35[0][0]']              \n",
      " ormalization)                                                                                    \n",
      "                                                                                                  \n",
      " batch_normalization_57 (BatchN  (None, 2500, 256)   1024        ['batch_normalization_56[0][0]'] \n",
      " ormalization)                                                                                    \n",
      "                                                                                                  \n",
      " re_lu_32 (ReLU)                (None, 2500, 256)    0           ['batch_normalization_57[0][0]'] \n",
      "                                                                                                  \n",
      " conv1d_36 (Conv1D)             (None, 2500, 1024)   263168      ['re_lu_32[0][0]']               \n",
      "                                                                                                  \n",
      " batch_normalization_58 (BatchN  (None, 2500, 1024)  4096        ['conv1d_36[0][0]']              \n",
      " ormalization)                                                                                    \n",
      "                                                                                                  \n",
      " add_10 (Add)                   (None, 2500, 1024)   0           ['batch_normalization_58[0][0]', \n",
      "                                                                  're_lu_30[0][0]']               \n",
      "                                                                                                  \n",
      " re_lu_33 (ReLU)                (None, 2500, 1024)   0           ['add_10[0][0]']                 \n",
      "                                                                                                  \n",
      " conv1d_37 (Conv1D)             (None, 2500, 256)    262400      ['re_lu_33[0][0]']               \n",
      "                                                                                                  \n",
      " batch_normalization_59 (BatchN  (None, 2500, 256)   1024        ['conv1d_37[0][0]']              \n",
      " ormalization)                                                                                    \n",
      "                                                                                                  \n",
      " batch_normalization_60 (BatchN  (None, 2500, 256)   1024        ['batch_normalization_59[0][0]'] \n",
      " ormalization)                                                                                    \n",
      "                                                                                                  \n",
      " re_lu_34 (ReLU)                (None, 2500, 256)    0           ['batch_normalization_60[0][0]'] \n",
      "                                                                                                  \n",
      " conv1d_38 (Conv1D)             (None, 2500, 256)    65792       ['re_lu_34[0][0]']               \n",
      "                                                                                                  \n",
      " batch_normalization_61 (BatchN  (None, 2500, 256)   1024        ['conv1d_38[0][0]']              \n",
      " ormalization)                                                                                    \n",
      "                                                                                                  \n",
      " batch_normalization_62 (BatchN  (None, 2500, 256)   1024        ['batch_normalization_61[0][0]'] \n",
      " ormalization)                                                                                    \n",
      "                                                                                                  \n",
      " re_lu_35 (ReLU)                (None, 2500, 256)    0           ['batch_normalization_62[0][0]'] \n",
      "                                                                                                  \n",
      " conv1d_39 (Conv1D)             (None, 2500, 1024)   263168      ['re_lu_35[0][0]']               \n",
      "                                                                                                  \n",
      " batch_normalization_63 (BatchN  (None, 2500, 1024)  4096        ['conv1d_39[0][0]']              \n",
      " ormalization)                                                                                    \n",
      "                                                                                                  \n",
      " add_11 (Add)                   (None, 2500, 1024)   0           ['batch_normalization_63[0][0]', \n",
      "                                                                  're_lu_33[0][0]']               \n",
      "                                                                                                  \n",
      " re_lu_36 (ReLU)                (None, 2500, 1024)   0           ['add_11[0][0]']                 \n",
      "                                                                                                  \n",
      " conv1d_40 (Conv1D)             (None, 2500, 256)    262400      ['re_lu_36[0][0]']               \n",
      "                                                                                                  \n",
      " batch_normalization_64 (BatchN  (None, 2500, 256)   1024        ['conv1d_40[0][0]']              \n",
      " ormalization)                                                                                    \n",
      "                                                                                                  \n",
      " batch_normalization_65 (BatchN  (None, 2500, 256)   1024        ['batch_normalization_64[0][0]'] \n",
      " ormalization)                                                                                    \n",
      "                                                                                                  \n",
      " re_lu_37 (ReLU)                (None, 2500, 256)    0           ['batch_normalization_65[0][0]'] \n",
      "                                                                                                  \n",
      " conv1d_41 (Conv1D)             (None, 2500, 256)    65792       ['re_lu_37[0][0]']               \n",
      "                                                                                                  \n",
      " batch_normalization_66 (BatchN  (None, 2500, 256)   1024        ['conv1d_41[0][0]']              \n",
      " ormalization)                                                                                    \n",
      "                                                                                                  \n",
      " batch_normalization_67 (BatchN  (None, 2500, 256)   1024        ['batch_normalization_66[0][0]'] \n",
      " ormalization)                                                                                    \n",
      "                                                                                                  \n",
      " re_lu_38 (ReLU)                (None, 2500, 256)    0           ['batch_normalization_67[0][0]'] \n",
      "                                                                                                  \n",
      " conv1d_42 (Conv1D)             (None, 2500, 1024)   263168      ['re_lu_38[0][0]']               \n",
      "                                                                                                  \n",
      " batch_normalization_68 (BatchN  (None, 2500, 1024)  4096        ['conv1d_42[0][0]']              \n",
      " ormalization)                                                                                    \n",
      "                                                                                                  \n",
      " add_12 (Add)                   (None, 2500, 1024)   0           ['batch_normalization_68[0][0]', \n",
      "                                                                  're_lu_36[0][0]']               \n",
      "                                                                                                  \n",
      " re_lu_39 (ReLU)                (None, 2500, 1024)   0           ['add_12[0][0]']                 \n",
      "                                                                                                  \n",
      " conv1d_43 (Conv1D)             (None, 2500, 512)    524800      ['re_lu_39[0][0]']               \n",
      "                                                                                                  \n"
     ]
    },
    {
     "name": "stdout",
     "output_type": "stream",
     "text": [
      " batch_normalization_69 (BatchN  (None, 2500, 512)   2048        ['conv1d_43[0][0]']              \n",
      " ormalization)                                                                                    \n",
      "                                                                                                  \n",
      " batch_normalization_70 (BatchN  (None, 2500, 512)   2048        ['batch_normalization_69[0][0]'] \n",
      " ormalization)                                                                                    \n",
      "                                                                                                  \n",
      " re_lu_40 (ReLU)                (None, 2500, 512)    0           ['batch_normalization_70[0][0]'] \n",
      "                                                                                                  \n",
      " conv1d_44 (Conv1D)             (None, 2500, 512)    262656      ['re_lu_40[0][0]']               \n",
      "                                                                                                  \n",
      " batch_normalization_71 (BatchN  (None, 2500, 512)   2048        ['conv1d_44[0][0]']              \n",
      " ormalization)                                                                                    \n",
      "                                                                                                  \n",
      " batch_normalization_72 (BatchN  (None, 2500, 512)   2048        ['batch_normalization_71[0][0]'] \n",
      " ormalization)                                                                                    \n",
      "                                                                                                  \n",
      " re_lu_41 (ReLU)                (None, 2500, 512)    0           ['batch_normalization_72[0][0]'] \n",
      "                                                                                                  \n",
      " conv1d_45 (Conv1D)             (None, 2500, 2048)   1050624     ['re_lu_41[0][0]']               \n",
      "                                                                                                  \n",
      " batch_normalization_73 (BatchN  (None, 2500, 2048)  8192        ['conv1d_45[0][0]']              \n",
      " ormalization)                                                                                    \n",
      "                                                                                                  \n",
      " batch_normalization_74 (BatchN  (None, 2500, 2048)  8192        ['batch_normalization_73[0][0]'] \n",
      " ormalization)                                                                                    \n",
      "                                                                                                  \n",
      " add_13 (Add)                   (None, 2500, 2048)   0           ['batch_normalization_73[0][0]', \n",
      "                                                                  'batch_normalization_74[0][0]'] \n",
      "                                                                                                  \n",
      " re_lu_42 (ReLU)                (None, 2500, 2048)   0           ['add_13[0][0]']                 \n",
      "                                                                                                  \n",
      " conv1d_47 (Conv1D)             (None, 2500, 512)    1049088     ['re_lu_42[0][0]']               \n",
      "                                                                                                  \n",
      " batch_normalization_75 (BatchN  (None, 2500, 512)   2048        ['conv1d_47[0][0]']              \n",
      " ormalization)                                                                                    \n",
      "                                                                                                  \n",
      " batch_normalization_76 (BatchN  (None, 2500, 512)   2048        ['batch_normalization_75[0][0]'] \n",
      " ormalization)                                                                                    \n",
      "                                                                                                  \n",
      " re_lu_43 (ReLU)                (None, 2500, 512)    0           ['batch_normalization_76[0][0]'] \n",
      "                                                                                                  \n",
      " conv1d_48 (Conv1D)             (None, 2500, 512)    262656      ['re_lu_43[0][0]']               \n",
      "                                                                                                  \n",
      " batch_normalization_77 (BatchN  (None, 2500, 512)   2048        ['conv1d_48[0][0]']              \n",
      " ormalization)                                                                                    \n",
      "                                                                                                  \n",
      " batch_normalization_78 (BatchN  (None, 2500, 512)   2048        ['batch_normalization_77[0][0]'] \n",
      " ormalization)                                                                                    \n",
      "                                                                                                  \n",
      " re_lu_44 (ReLU)                (None, 2500, 512)    0           ['batch_normalization_78[0][0]'] \n",
      "                                                                                                  \n",
      " conv1d_49 (Conv1D)             (None, 2500, 2048)   1050624     ['re_lu_44[0][0]']               \n",
      "                                                                                                  \n",
      " batch_normalization_79 (BatchN  (None, 2500, 2048)  8192        ['conv1d_49[0][0]']              \n",
      " ormalization)                                                                                    \n",
      "                                                                                                  \n",
      " add_14 (Add)                   (None, 2500, 2048)   0           ['batch_normalization_79[0][0]', \n",
      "                                                                  're_lu_42[0][0]']               \n",
      "                                                                                                  \n",
      " re_lu_45 (ReLU)                (None, 2500, 2048)   0           ['add_14[0][0]']                 \n",
      "                                                                                                  \n",
      " conv1d_50 (Conv1D)             (None, 2500, 512)    1049088     ['re_lu_45[0][0]']               \n",
      "                                                                                                  \n",
      " batch_normalization_80 (BatchN  (None, 2500, 512)   2048        ['conv1d_50[0][0]']              \n",
      " ormalization)                                                                                    \n",
      "                                                                                                  \n",
      " batch_normalization_81 (BatchN  (None, 2500, 512)   2048        ['batch_normalization_80[0][0]'] \n",
      " ormalization)                                                                                    \n",
      "                                                                                                  \n",
      " re_lu_46 (ReLU)                (None, 2500, 512)    0           ['batch_normalization_81[0][0]'] \n",
      "                                                                                                  \n",
      " conv1d_51 (Conv1D)             (None, 2500, 512)    262656      ['re_lu_46[0][0]']               \n",
      "                                                                                                  \n",
      " batch_normalization_82 (BatchN  (None, 2500, 512)   2048        ['conv1d_51[0][0]']              \n",
      " ormalization)                                                                                    \n",
      "                                                                                                  \n",
      " batch_normalization_83 (BatchN  (None, 2500, 512)   2048        ['batch_normalization_82[0][0]'] \n",
      " ormalization)                                                                                    \n",
      "                                                                                                  \n",
      " re_lu_47 (ReLU)                (None, 2500, 512)    0           ['batch_normalization_83[0][0]'] \n",
      "                                                                                                  \n",
      " conv1d_52 (Conv1D)             (None, 2500, 2048)   1050624     ['re_lu_47[0][0]']               \n",
      "                                                                                                  \n"
     ]
    },
    {
     "name": "stdout",
     "output_type": "stream",
     "text": [
      " batch_normalization_84 (BatchN  (None, 2500, 2048)  8192        ['conv1d_52[0][0]']              \n",
      " ormalization)                                                                                    \n",
      "                                                                                                  \n",
      " add_15 (Add)                   (None, 2500, 2048)   0           ['batch_normalization_84[0][0]', \n",
      "                                                                  're_lu_45[0][0]']               \n",
      "                                                                                                  \n",
      " re_lu_48 (ReLU)                (None, 2500, 2048)   0           ['add_15[0][0]']                 \n",
      "                                                                                                  \n",
      " average_pooling1d (AveragePool  (None, 1250, 2048)  0           ['re_lu_48[0][0]']               \n",
      " ing1D)                                                                                           \n",
      "                                                                                                  \n",
      " flatten (Flatten)              (None, 2560000)      0           ['average_pooling1d[0][0]']      \n",
      "                                                                                                  \n",
      " dense (Dense)                  (None, 1)            2560001     ['flatten[0][0]']                \n",
      "                                                                                                  \n",
      "==================================================================================================\n",
      "Total params: 13,333,825\n",
      "Trainable params: 13,265,665\n",
      "Non-trainable params: 68,160\n",
      "__________________________________________________________________________________________________\n"
     ]
    }
   ],
   "source": [
    "model.summary()"
   ]
  },
  {
   "cell_type": "code",
   "execution_count": 54,
   "id": "e84515b9",
   "metadata": {},
   "outputs": [],
   "source": [
    "model.compile(loss=tf.keras.losses.BinaryCrossentropy(), \n",
    "                        optimizer='adam',\n",
    "                        metrics=[tf.keras.metrics.CategoricalAccuracy(name='accuracy',\n",
    "                                                                 dtype=None),\n",
    "                                 tf.keras.metrics.Recall(name='Recall'),\n",
    "                                 tf.keras.metrics.Precision(name='Precision'),\n",
    "                                 tf.keras.metrics.AUC(num_thresholds=200,\n",
    "                           \n",
    "                                                      curve=\"ROC\",\n",
    "                                                      summation_method=\"interpolation\",\n",
    "                                                      name=\"AUC\",dtype=None,\n",
    "                                                      thresholds=None,\n",
    "                                                      multi_label=True,\n",
    "                                                      label_weights=None,)])"
   ]
  },
  {
   "cell_type": "code",
   "execution_count": 58,
   "id": "733493df",
   "metadata": {},
   "outputs": [],
   "source": [
    "# Split data into train and test\n",
    "X_train, X_val, y_train, y_val = sklearn.model_selection.train_test_split(x_input, y_input, test_size=0.2, random_state=42)\n",
    "# Split data into train and test\n",
    "X_train, X_test, y_train, y_test = sklearn.model_selection.train_test_split(X_train, y_train, test_size=0.2, random_state=42)"
   ]
  },
  {
   "cell_type": "code",
   "execution_count": 62,
   "id": "68bf0cf0",
   "metadata": {},
   "outputs": [],
   "source": [
    "batchsize = 15"
   ]
  },
  {
   "cell_type": "code",
   "execution_count": 66,
   "id": "c1c21639",
   "metadata": {
    "scrolled": true
   },
   "outputs": [],
   "source": [
    "model.fit(x = X_train, y= y_train, validation_data=(X_val, y_val), \n",
    "                   epochs=50, \n",
    "                   steps_per_epoch=(len(X_train)/(batchsize)), \n",
    "                   callbacks= [tf.keras.callbacks.ModelCheckpoint(filepath='Resnet50_base_BinaryCrossentropy_1000sig_with_df_help.hdf5',\n",
    "                                                      monitor=\"val_loss\",\n",
    "                                                      verbose=0,\n",
    "                                                      save_best_only=True,\n",
    "                                                      save_weights_only=False,\n",
    "                                                      mode=\"min\",\n",
    "                                                      save_freq=\"epoch\",\n",
    "                                                      options=None)])"
   ]
  },
  {
   "cell_type": "code",
   "execution_count": null,
   "id": "6d978726",
   "metadata": {},
   "outputs": [],
   "source": []
  }
 ],
 "metadata": {
  "kernelspec": {
   "display_name": "Python 3 (ipykernel)",
   "language": "python",
   "name": "python3"
  },
  "language_info": {
   "codemirror_mode": {
    "name": "ipython",
    "version": 3
   },
   "file_extension": ".py",
   "mimetype": "text/x-python",
   "name": "python",
   "nbconvert_exporter": "python",
   "pygments_lexer": "ipython3",
   "version": "3.10.1"
  }
 },
 "nbformat": 4,
 "nbformat_minor": 5
}
